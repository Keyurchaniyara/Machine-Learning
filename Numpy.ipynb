{
 "cells": [
  {
   "cell_type": "raw",
   "metadata": {},
   "source": [
    "\"\"\"\n",
    "Created on Mon Aug 8 18:56:31 2021\n",
    "\n",
    "@author: Keyur Chaniyara\n",
    "\n",
    "\"\"\""
   ]
  },
  {
   "cell_type": "markdown",
   "metadata": {},
   "source": [
    "# NUMPY ARRAY"
   ]
  },
  {
   "cell_type": "code",
   "execution_count": 1,
   "metadata": {},
   "outputs": [
    {
     "name": "stdout",
     "output_type": "stream",
     "text": [
      "<class 'numpy.ndarray'>\n",
      "[10 20 30]\n"
     ]
    }
   ],
   "source": [
    "import numpy as np\n",
    "a = np.array([10, 20, 30])\n",
    "print(type(a))\n",
    "print(a)"
   ]
  },
  {
   "cell_type": "code",
   "execution_count": 2,
   "metadata": {},
   "outputs": [
    {
     "name": "stdout",
     "output_type": "stream",
     "text": [
      "(3,)\n",
      "1\n",
      "3\n"
     ]
    }
   ],
   "source": [
    "print(a.shape)       # ----> always return the tuple\n",
    "print(a.ndim)\n",
    "print(a.size)"
   ]
  },
  {
   "cell_type": "code",
   "execution_count": 3,
   "metadata": {},
   "outputs": [
    {
     "name": "stdout",
     "output_type": "stream",
     "text": [
      "<class 'numpy.ndarray'>\n",
      "[[10 20 30]\n",
      " [40 50 60]\n",
      " [70 80 90]]\n"
     ]
    }
   ],
   "source": [
    "# multi diamentional array\n",
    "b=np.array([[10,20,30],[40,50,60],[70,80,90]])\n",
    "print(type(b))\n",
    "print(b)"
   ]
  },
  {
   "cell_type": "code",
   "execution_count": 4,
   "metadata": {},
   "outputs": [
    {
     "name": "stdout",
     "output_type": "stream",
     "text": [
      "(3, 3)\n",
      "2\n",
      "9\n"
     ]
    }
   ],
   "source": [
    "print(b.shape)\n",
    "print(b.ndim)\n",
    "print(b.size)"
   ]
  },
  {
   "cell_type": "code",
   "execution_count": 5,
   "metadata": {},
   "outputs": [
    {
     "name": "stdout",
     "output_type": "stream",
     "text": [
      "[0, 1, 2, 3, 4, 5, 6, 7, 8, 9]\n",
      "[0 1 2 3 4 5 6 7 8 9]\n"
     ]
    }
   ],
   "source": [
    "# range vs arange\n",
    "\n",
    "l = [i for i in range(10)]    # -----> list\n",
    "n = np.arange(10)             # -----> numpy array   \n",
    "\n",
    "print(l)\n",
    "print(n)"
   ]
  },
  {
   "cell_type": "code",
   "execution_count": 6,
   "metadata": {},
   "outputs": [
    {
     "name": "stdout",
     "output_type": "stream",
     "text": [
      "[ 0  2  4  6  8 10 12 14 16 18]\n",
      "[ 1  2  3  4  5  6  7  8  9 10 11 12 13 14 15 16 17 18 19]\n",
      "[ 0  1  2  3  4  5  6  7  8  9 10 11 12 13 14 15 16 17 18 19]\n"
     ]
    }
   ],
   "source": [
    "arr = np.arange(0,20,2)\n",
    "arr1 = np.arange(1,20)\n",
    "arr2 = np.arange(20)\n",
    "\n",
    "print(arr)\n",
    "print(arr1)\n",
    "print(arr2)"
   ]
  },
  {
   "cell_type": "code",
   "execution_count": 7,
   "metadata": {},
   "outputs": [
    {
     "data": {
      "text/plain": [
       "numpy.ndarray"
      ]
     },
     "execution_count": 7,
     "metadata": {},
     "output_type": "execute_result"
    }
   ],
   "source": [
    "# ndarry = n-diamentional array\n",
    "type(a)"
   ]
  },
  {
   "cell_type": "code",
   "execution_count": 8,
   "metadata": {},
   "outputs": [
    {
     "name": "stdout",
     "output_type": "stream",
     "text": [
      "size of each elements in list S :- 8697456\n",
      "size of given list S :- 8697456000000\n",
      "run time(list) :- 0.10952115058898926 second\n",
      "<class 'list'>\n",
      "   \n",
      "size of each elements in numpy array D :-4\n",
      "size of given array D:-4000000\n",
      "run time(np array) :-0.0 second\n",
      "<class 'numpy.ndarray'>\n",
      "int32\n"
     ]
    }
   ],
   "source": [
    "import numpy as np\n",
    "import time\n",
    "import sys\n",
    "\n",
    "# list --> size and time\n",
    "list1=range(1000000)\n",
    "list2=range(1000000)\n",
    "            \n",
    "t1=time.time()\n",
    "S = [(a * b) for a,b in zip(list1,list2)]\n",
    "t2=time.time()\n",
    "print(f\"size of each elements in list S :- {sys.getsizeof(S)}\")\n",
    "print(f\"size of given list S :- {sys.getsizeof(S)*len(S)}\")\n",
    "lt=t2-t1\n",
    "print(f\"run time(list) :- {lt} second\")\n",
    "print(type(S))\n",
    "\n",
    "print(\"   \")\n",
    "\n",
    "# numpy array --> size and time\n",
    "array1 = np.arange(1000000)\n",
    "array2 = np.arange(1000000)\n",
    "\n",
    "t3=time.time()\n",
    "D = array1*array2\n",
    "t4=time.time()\n",
    "print(f\"size of each elements in numpy array D :-{D.itemsize}\")\n",
    "print(f\"size of given array D:-{D.itemsize*D.size}\")\n",
    "nt=t4-t3\n",
    "print(f\"run time(np array) :-{nt} second\")\n",
    "print(type(D))\n",
    "# item data type\n",
    "print(D.dtype)"
   ]
  },
  {
   "cell_type": "code",
   "execution_count": 9,
   "metadata": {},
   "outputs": [
    {
     "name": "stdout",
     "output_type": "stream",
     "text": [
      " original list :-- [1, 2, 3, 4, 5] \n",
      " original array :-- [1 2 3 4 5] \n",
      "   \n",
      "list does not support list+int\n",
      "   \n",
      "modified arr: [ 6  7  8  9 10]\n"
     ]
    }
   ],
   "source": [
    "#  arithmatic operation affect list vs array\n",
    "\n",
    "l = [1,2,3,4,5]\n",
    "arr = np.array([1,2,3,4,5])\n",
    "\n",
    "print(f\" original list :-- {l} \")\n",
    "print(f\" original array :-- {arr} \")\n",
    "\n",
    "print(\"   \")\n",
    "\n",
    "try:\n",
    "    l = l+5\n",
    "    print(f\"modified list: {l}\")\n",
    "except:\n",
    "    print(\"list does not support list+int\")\n",
    "    \n",
    "print(\"   \")\n",
    "    \n",
    "try:\n",
    "    arr = arr+5\n",
    "    print(f\"modified arr: {arr}\")\n",
    "except:\n",
    "    print(\"np array does not support arr+int\")"
   ]
  },
  {
   "cell_type": "code",
   "execution_count": 10,
   "metadata": {},
   "outputs": [
    {
     "name": "stdout",
     "output_type": "stream",
     "text": [
      "[[1 2]\n",
      " [3 4]]\n",
      "[[5 6]\n",
      " [7 8]]\n",
      "[[ 6  8]\n",
      " [10 12]]\n",
      "[[-4 -4]\n",
      " [-4 -4]]\n",
      "[[ 5 12]\n",
      " [21 32]]\n",
      "[[0.2        0.33333333]\n",
      " [0.42857143 0.5       ]]\n",
      "[[1.         1.41421356]\n",
      " [1.73205081 2.        ]]\n"
     ]
    }
   ],
   "source": [
    "# Array Mathematical operations \n",
    "\n",
    "import numpy as np\n",
    "\n",
    "x = np.array([[1,2],[3,4]])\n",
    "\n",
    "y = np.array([[5,6],[7,8]])\n",
    "\n",
    "print(x)\n",
    "\n",
    "print(y)\n",
    "\n",
    "print(x + y) # or print(np.add(x, y)) \n",
    "\n",
    "print(x - y) # or print(np.sub(x, y))\n",
    "\n",
    "print(x * y) # or print(np.mul(x, y))\n",
    "\n",
    "print(x / y) # or print(np.div(x, y))\n",
    "\n",
    "print(np.sqrt(x))"
   ]
  },
  {
   "cell_type": "code",
   "execution_count": 11,
   "metadata": {},
   "outputs": [
    {
     "name": "stdout",
     "output_type": "stream",
     "text": [
      "[1 2 3 4 5 6 7 8]\n",
      "1 2 3\n",
      "updated array :- [50 10  3  4  5  6  7  8] and we proved that array is mutable...\n"
     ]
    }
   ],
   "source": [
    "# np array is mutable of not ?\n",
    "\n",
    "a = np.array([1, 2, 3, 4, 5, 6, 7, 8])\n",
    "print(a)\n",
    "\n",
    "# Accessing Array elements of single dimentional array\n",
    "print(a[0], a[1], a[2]) \n",
    "\n",
    "# Change an element of array\n",
    "try: \n",
    "    a[0] = 50\n",
    "    a[1] = 10\n",
    "    print(f\"updated array :- {a} and we proved that array is mutable...\" )\n",
    "except:\n",
    "    print(\"np array is immutable\")"
   ]
  },
  {
   "cell_type": "code",
   "execution_count": 12,
   "metadata": {},
   "outputs": [
    {
     "name": "stdout",
     "output_type": "stream",
     "text": [
      "[[1 2 3 4]\n",
      " [5 6 7 8]]\n",
      "1 2 7\n",
      "updated array :- [[50  2  3  4]\n",
      " [10  6  7  8]] \n",
      "and we proved that array is mutable...\n"
     ]
    }
   ],
   "source": [
    "a = np.array([[1, 2, 3, 4],[5, 6, 7, 8]])\n",
    "print(a)\n",
    "\n",
    "# Accessing Array elements of single dimentional array\n",
    "print(a[0][0], a[0][1], a[1][2]) # or print(a[0,0], a[0,1], a[1,2])\n",
    "\n",
    "# Change an element of array \n",
    "try: \n",
    "    a[0][0] = 50\n",
    "    a[1][0] = 10\n",
    "    print(f\"updated array :- {a} \")\n",
    "    print(\"and we proved that array is mutable...\")\n",
    "except:\n",
    "    print(\"np array is immutable\")"
   ]
  },
  {
   "cell_type": "code",
   "execution_count": 13,
   "metadata": {},
   "outputs": [
    {
     "name": "stdout",
     "output_type": "stream",
     "text": [
      "[[10 20 30 40]\n",
      " [50 60 70 80]]\n",
      "   \n",
      "(2, 4)\n",
      "   \n",
      "[[10 20]\n",
      " [30 40]\n",
      " [50 60]\n",
      " [70 80]]\n"
     ]
    }
   ],
   "source": [
    "#  reshape\n",
    "a = np.array([[10, 20, 30, 40],[50, 60, 70, 80]])\n",
    "\n",
    "print(a)\n",
    "print(\"   \")\n",
    "\n",
    "# shape\n",
    "print(a.shape)\n",
    "print(\"   \")\n",
    "\n",
    "# reshape\n",
    "print(a.reshape(4,2))"
   ]
  },
  {
   "cell_type": "code",
   "execution_count": 14,
   "metadata": {},
   "outputs": [
    {
     "name": "stdout",
     "output_type": "stream",
     "text": [
      "[[ 1  2  3  4]\n",
      " [ 5  6  7  8]\n",
      " [ 9 10 11 12]]\n",
      "   \n",
      "(3, 4)\n",
      "   \n",
      "[ 3  7 11]\n",
      "   \n",
      "[[ 7  8]\n",
      " [11 12]]\n",
      "   \n",
      "[[3]\n",
      " [7]]\n"
     ]
    }
   ],
   "source": [
    "# Array Indexing \n",
    "\n",
    "# Create the following rank 2 array with shape (3, 4)\n",
    "a = np.array([[1,2,3,4], [5,6,7,8], [9,10,11,12]])\n",
    "print(a)\n",
    "print(\"   \")\n",
    "\n",
    "#Slicing in array\n",
    "print(a.shape)\n",
    "print(\"   \")\n",
    "\n",
    "b = a[0:,2]      # 0: --> 1st, 2nd raw and 2 --> 2nd column ,... so we get [3 7 11]  \n",
    "c = a[1:, 2:]    # 1: --> 1st, 2nd raw and 2: --> 2nd column  \n",
    "d = a[0:2, 2:3]  \n",
    "\n",
    "print(b)\n",
    "print(\"   \")\n",
    "\n",
    "print(c)\n",
    "print(\"   \")\n",
    "\n",
    "print(d)"
   ]
  },
  {
   "cell_type": "code",
   "execution_count": 15,
   "metadata": {},
   "outputs": [
    {
     "name": "stdout",
     "output_type": "stream",
     "text": [
      "[5 6 7 8]\n",
      "(4,)\n",
      "[[5 6 7 8]]\n",
      "(1, 4)\n"
     ]
    }
   ],
   "source": [
    "a = np.array([[1,2,3,4], [5,6,7,8], [9,10,11,12]])\n",
    "\n",
    "row_r1 = a[1,:]    # Rank 1 view of the second row of a\n",
    "row_r2 = a[1:2, :]  # Rank 2 view of the second row of a\n",
    "\n",
    "print(row_r1)\n",
    "print(row_r1.shape)  \n",
    "\n",
    "print(row_r2)\n",
    "print(row_r2.shape)"
   ]
  },
  {
   "cell_type": "code",
   "execution_count": 16,
   "metadata": {},
   "outputs": [
    {
     "name": "stdout",
     "output_type": "stream",
     "text": [
      "[ 2  6 10]\n",
      "(3,)\n",
      "[[ 2]\n",
      " [ 6]\n",
      " [10]]\n",
      "(3, 1)\n"
     ]
    }
   ],
   "source": [
    "a = np.array([[1,2,3,4], [5,6,7,8], [9,10,11,12]])\n",
    "\n",
    "# We can make the same distinction when accessing columns of an array:\n",
    "\n",
    "col_r1 = a[:, 1]\n",
    "col_r2 = a[:, 1:2]\n",
    "\n",
    "print(col_r1)\n",
    "print(col_r1.shape)  \n",
    "\n",
    "print(col_r2)\n",
    "print(col_r2.shape)  "
   ]
  },
  {
   "cell_type": "code",
   "execution_count": 17,
   "metadata": {},
   "outputs": [
    {
     "name": "stdout",
     "output_type": "stream",
     "text": [
      "[1 4 5]\n",
      "1 4 5\n",
      "[1 4 5]\n"
     ]
    }
   ],
   "source": [
    "#array indexing in form of integer \n",
    "\n",
    "a = np.array([[1,2], [3, 4], [5, 6]])\n",
    "\n",
    "print(a[[0, 1, 2], [0, 1, 0]])    # or print(np.array(a[[0, 1, 2], [0, 1, 0]]))\n",
    "\n",
    "print(a[0, 0], a[1, 1], a[2, 0])    # ----->> solve this ... |\n",
    "print(np.array([a[0, 0], a[1, 1], a[2, 0]])) "
   ]
  },
  {
   "cell_type": "code",
   "execution_count": 18,
   "metadata": {},
   "outputs": [
    {
     "name": "stdout",
     "output_type": "stream",
     "text": [
      "[1.         1.33333333 1.66666667 2.         2.33333333 2.66666667\n",
      " 3.         3.33333333 3.66666667 4.        ]\n"
     ]
    }
   ],
   "source": [
    "print(np.linspace(1,4,10))     # generating 10 number in the interval of 1 to 4 (equally spaced)"
   ]
  },
  {
   "cell_type": "code",
   "execution_count": 19,
   "metadata": {},
   "outputs": [
    {
     "name": "stdout",
     "output_type": "stream",
     "text": [
      "1\n",
      "6\n",
      "21\n"
     ]
    }
   ],
   "source": [
    "print(a.min())\n",
    "print(a.max())\n",
    "print(a.sum())"
   ]
  },
  {
   "cell_type": "code",
   "execution_count": 20,
   "metadata": {},
   "outputs": [
    {
     "name": "stdout",
     "output_type": "stream",
     "text": [
      "[15 18 21 24]\n",
      "[10 26 42]\n",
      "   \n",
      "[[ 1  5  9]\n",
      " [ 2  6 10]\n",
      " [ 3  7 11]\n",
      " [ 4  8 12]]\n",
      "   \n",
      "[ 1  2  3  4  5  6  7  8  9 10 11 12]\n"
     ]
    }
   ],
   "source": [
    "# axis (1=x and 0=y)\n",
    "a = np.array([[1,2,3,4], [5,6,7,8], [9,10,11,12]])\n",
    "\n",
    "print(a.sum(axis=0))\n",
    "print(a.sum(axis=1))\n",
    "\n",
    "print(\"   \")\n",
    "\n",
    "print(a.T)  # or print(a.transpose())   # transpose \n",
    "\n",
    "print(\"   \")\n",
    "\n",
    "print(a.ravel())   #convert 2d array to 1d array"
   ]
  },
  {
   "cell_type": "code",
   "execution_count": 21,
   "metadata": {},
   "outputs": [
    {
     "name": "stdout",
     "output_type": "stream",
     "text": [
      "[[1.         1.41421356 1.73205081 2.        ]\n",
      " [2.23606798 2.44948974 2.64575131 2.82842712]\n",
      " [3.         3.16227766 3.31662479 3.46410162]]\n",
      "\n",
      "3.452052529534663\n"
     ]
    }
   ],
   "source": [
    "print(np.sqrt(a))\n",
    "\n",
    "print(    )\n",
    "\n",
    "print(np.std(a))    # Standard Deviation (SD) is measured as the spread of data distribution in the given data set."
   ]
  },
  {
   "cell_type": "code",
   "execution_count": 22,
   "metadata": {},
   "outputs": [
    {
     "name": "stdout",
     "output_type": "stream",
     "text": [
      "[[0. 0. 0. 0.]\n",
      " [0. 0. 0. 0.]\n",
      " [0. 0. 0. 0.]]\n",
      "\n",
      "[[1. 1. 1. 1.]\n",
      " [1. 1. 1. 1.]\n",
      " [1. 1. 1. 1.]]\n"
     ]
    }
   ],
   "source": [
    "print(np.zeros((3,4)))\n",
    "print(    )\n",
    "print(np.ones((3,4)))"
   ]
  },
  {
   "cell_type": "code",
   "execution_count": 23,
   "metadata": {},
   "outputs": [
    {
     "name": "stdout",
     "output_type": "stream",
     "text": [
      "[[-1.93011413e+15  3.86022825e+15 -1.93011413e+15]\n",
      " [ 3.86022825e+15 -7.72045650e+15  3.86022825e+15]\n",
      " [-1.93011413e+15  3.86022825e+15 -1.93011413e+15]]\n"
     ]
    }
   ],
   "source": [
    "a = np.array([[1,2,3], [5,6,7], [9,10,11]])\n",
    "print(np.linalg.inv(a))     # inverse of array (coumpulsary square array)"
   ]
  },
  {
   "cell_type": "code",
   "execution_count": 24,
   "metadata": {},
   "outputs": [],
   "source": [
    "#  -----------------------------------------------------------------------------------------------------------------------  #"
   ]
  }
 ],
 "metadata": {
  "kernelspec": {
   "display_name": "Python 3",
   "language": "python",
   "name": "python3"
  },
  "language_info": {
   "codemirror_mode": {
    "name": "ipython",
    "version": 3
   },
   "file_extension": ".py",
   "mimetype": "text/x-python",
   "name": "python",
   "nbconvert_exporter": "python",
   "pygments_lexer": "ipython3",
   "version": "3.8.5"
  }
 },
 "nbformat": 4,
 "nbformat_minor": 4
}
