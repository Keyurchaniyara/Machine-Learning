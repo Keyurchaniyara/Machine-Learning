{
 "cells": [
  {
   "cell_type": "markdown",
   "metadata": {},
   "source": [
    "# 0.Import library"
   ]
  },
  {
   "cell_type": "code",
   "execution_count": 1,
   "metadata": {},
   "outputs": [],
   "source": [
    "import numpy as np\n",
    "import pandas as pd"
   ]
  },
  {
   "cell_type": "markdown",
   "metadata": {},
   "source": [
    "# 1. Datatypes\n",
    "pandas has two main datatypes, Series and DataFrame.\n",
    "\n",
    "Series --->> a 1-dimensional column of data.                     \n",
    "DataFrame (most common) - a 2-dimesional table of data with rows and columns."
   ]
  },
  {
   "cell_type": "markdown",
   "metadata": {},
   "source": [
    "# Pandas series"
   ]
  },
  {
   "cell_type": "code",
   "execution_count": 3,
   "metadata": {},
   "outputs": [
    {
     "name": "stdout",
     "output_type": "stream",
     "text": [
      "[1 2 3 4]\n",
      "0    1\n",
      "1    2\n",
      "2    3\n",
      "3    4\n",
      "dtype: int32\n"
     ]
    }
   ],
   "source": [
    "# - Series  (1d homogeneous array)\n",
    "a = np.array([1,2,3,4])\n",
    "print(a)\n",
    "\n",
    "s = pd.Series(a)\n",
    "print(s)"
   ]
  },
  {
   "cell_type": "code",
   "execution_count": 4,
   "metadata": {},
   "outputs": [
    {
     "name": "stdout",
     "output_type": "stream",
     "text": [
      "['K' 'E' 'Y' 'U' 'R']\n",
      "0    K\n",
      "1    E\n",
      "2    Y\n",
      "3    U\n",
      "4    R\n",
      "dtype: object\n",
      "<class 'pandas.core.series.Series'>\n"
     ]
    }
   ],
   "source": [
    "a = np.array(['K','E','Y','U','R'])\n",
    "print(a)\n",
    "\n",
    "s = pd.Series(a)                      # here 0 1 2... is a index\n",
    "print(s)\n",
    "\n",
    "print(type(s))"
   ]
  },
  {
   "cell_type": "code",
   "execution_count": 5,
   "metadata": {},
   "outputs": [
    {
     "name": "stdout",
     "output_type": "stream",
     "text": [
      "a    0.721826\n",
      "b    0.589585\n",
      "c    0.835393\n",
      "d    0.057281\n",
      "e    0.049895\n",
      "dtype: float64\n"
     ]
    }
   ],
   "source": [
    "# Creating Pandas series with index:\n",
    "\n",
    "import pandas as pd\n",
    "\n",
    "import numpy as np\n",
    "\n",
    "s1 = pd.Series( np.random.random(5) , index=['a', 'b', 'c', 'd', 'e'] )     # here a b c...is my one index\n",
    "\n",
    "print(s1)"
   ]
  },
  {
   "cell_type": "code",
   "execution_count": 9,
   "metadata": {},
   "outputs": [
    {
     "name": "stdout",
     "output_type": "stream",
     "text": [
      "{'pi': 3.1415, 'e': 2.71828}\n",
      "pi    3.14150\n",
      "e     2.71828\n",
      "dtype: float64\n"
     ]
    }
   ],
   "source": [
    "# Create a Series from dictionary\n",
    "\n",
    "data = {'pi': 3.1415, 'e': 2.71828}  # dictionary\n",
    "\n",
    "print(data)\n",
    "\n",
    "s3 = pd.Series ( data )\n",
    "\n",
    "print(s3)"
   ]
  },
  {
   "cell_type": "code",
   "execution_count": 6,
   "metadata": {},
   "outputs": [
    {
     "name": "stdout",
     "output_type": "stream",
     "text": [
      "[84 34 70 11 77]\n",
      "\n",
      "[[0 1 0 0 1]\n",
      " [2 1 3 1 3]\n",
      " [1 2 3 1 1]\n",
      " [3 1 0 1 1]]\n"
     ]
    }
   ],
   "source": [
    "a = np.random.randint(1,100,5)\n",
    "print(a)\n",
    "\n",
    "print(    )\n",
    "\n",
    "b = np.random.randint(4,size=(4,5))\n",
    "print(b)"
   ]
  },
  {
   "cell_type": "code",
   "execution_count": 7,
   "metadata": {},
   "outputs": [
    {
     "name": "stdout",
     "output_type": "stream",
     "text": [
      "0    84\n",
      "1    34\n",
      "2    70\n",
      "3    11\n",
      "4    77\n",
      "dtype: int32\n"
     ]
    }
   ],
   "source": [
    "s = pd.Series(a)\n",
    "print(s)"
   ]
  },
  {
   "cell_type": "code",
   "execution_count": 27,
   "metadata": {},
   "outputs": [
    {
     "name": "stdout",
     "output_type": "stream",
     "text": [
      "0    0.650222\n",
      "1    0.428461\n",
      "2    0.757881\n",
      "3    0.798886\n",
      "4    0.703698\n",
      "dtype: float64\n",
      "0.7988864921614459\n",
      "\n",
      "0    0.650222\n",
      "1    0.428461\n",
      "dtype: float64\n",
      "\n",
      "1    0.428461\n",
      "2    0.757881\n",
      "3    0.798886\n",
      "4    0.703698\n",
      "dtype: float64\n",
      "\n",
      "2    0.757881\n",
      "1    0.428461\n",
      "0    0.650222\n",
      "dtype: float64\n",
      "\n",
      "2    0.757881\n",
      "1    0.428461\n",
      "2    0.757881\n",
      "dtype: float64\n",
      "\n"
     ]
    }
   ],
   "source": [
    "import pandas as pd\n",
    "\n",
    "import numpy as np\n",
    "\n",
    "s1 = pd.Series( np.random.random(5) )\n",
    "\n",
    "print(s1)\n",
    "\n",
    "# Many ways to \"slice\" Pandas series (series have zero-based index by default):\n",
    "\n",
    "print(s1[3])  # returns 4th element\n",
    "print (    )\n",
    "\n",
    "print(s1[:2]) #First 2 elements\n",
    "print (    )\n",
    "\n",
    "print(s1[1:]) #all element after 1st element\n",
    "print (    )\n",
    "\n",
    "print( s1[ [2,1,0]])\n",
    "print (    )\n",
    "\n",
    "print( s1[ [2,1,2]])\n",
    "print (    )\n",
    "# View index values\n"
   ]
  },
  {
   "cell_type": "code",
   "execution_count": 38,
   "metadata": {},
   "outputs": [
    {
     "name": "stdout",
     "output_type": "stream",
     "text": [
      "RangeIndex(start=0, stop=5, step=1)\n",
      "\n",
      "0.7988864921614459\n",
      "\n",
      "0.42846053726423927\n",
      "\n",
      "3.33914761950273\n",
      "\n",
      "0     True\n",
      "1    False\n",
      "2     True\n",
      "3     True\n",
      "4     True\n",
      "dtype: bool\n",
      "\n",
      "0    0.650222\n",
      "2    0.757881\n",
      "3    0.798886\n",
      "4    0.703698\n",
      "dtype: float64\n",
      "\n",
      "0.7036983186564415\n",
      "\n",
      "2    0.757881\n",
      "3    0.798886\n",
      "dtype: float64\n"
     ]
    }
   ],
   "source": [
    "print(s1.index)\n",
    "print (    )\n",
    "\n",
    "print(s1.max())\n",
    "print (    )\n",
    "\n",
    "print(s1.min())\n",
    "print (    )\n",
    "\n",
    "print(s1.sum())\n",
    "print (    )\n",
    "\n",
    "print(s1>0.5)\n",
    "print (    )\n",
    "\n",
    "print(s1[s1>0.5])\n",
    "print (    )\n",
    "\n",
    "print(s1.median())\n",
    "print (    )\n",
    "\n",
    "print(s1[s1>s1.median()])"
   ]
  },
  {
   "cell_type": "code",
   "execution_count": 40,
   "metadata": {},
   "outputs": [
    {
     "data": {
      "text/plain": [
       "array([0.65022164, 0.42846054, 0.75788063, 0.79888649, 0.70369832])"
      ]
     },
     "execution_count": 40,
     "metadata": {},
     "output_type": "execute_result"
    }
   ],
   "source": [
    "# Convert pd series into np array\n",
    "\n",
    "s1.values"
   ]
  },
  {
   "cell_type": "code",
   "execution_count": 42,
   "metadata": {},
   "outputs": [
    {
     "name": "stdout",
     "output_type": "stream",
     "text": [
      "0    0\n",
      "1    1\n",
      "2    2\n",
      "3    3\n",
      "4    4\n",
      "5    5\n",
      "dtype: int64\n",
      "0    0\n",
      "1    1\n",
      "2    2\n",
      "3    3\n",
      "4    4\n",
      "dtype: int64\n",
      "5    5\n",
      "4    4\n",
      "3    3\n",
      "2    2\n",
      "1    1\n",
      "0    0\n",
      "dtype: int64\n",
      "1    1\n",
      "2    2\n",
      "3    3\n",
      "4    4\n",
      "5    5\n",
      "dtype: int64\n"
     ]
    },
    {
     "data": {
      "text/plain": [
       "0    NaN\n",
       "1    2.0\n",
       "2    4.0\n",
       "3    6.0\n",
       "4    8.0\n",
       "5    NaN\n",
       "dtype: float64"
      ]
     },
     "execution_count": 42,
     "metadata": {},
     "output_type": "execute_result"
    }
   ],
   "source": [
    "# Unlike ndarray Series automatically allign the data based on label:\n",
    "\n",
    "import pandas as pd\n",
    "\n",
    "s5 = pd.Series (range(6))\n",
    "\n",
    "print(s5)\n",
    "\n",
    "print(s5[:-1])     #pritn escape last element\n",
    "\n",
    "print(s5[::-1])\n",
    "\n",
    "print(s5[1:])      # print after 1st index\n",
    "\n",
    "s5[1:] + s5[:-1]"
   ]
  },
  {
   "cell_type": "code",
   "execution_count": 43,
   "metadata": {
    "scrolled": true
   },
   "outputs": [
    {
     "name": "stdout",
     "output_type": "stream",
     "text": [
      "0    0.243507\n",
      "1    0.361167\n",
      "2   -2.041766\n",
      "3   -1.098873\n",
      "4   -1.200935\n",
      "dtype: float64\n",
      "False\n",
      "0    0.243507\n",
      "1    0.361167\n",
      "dtype: float64\n",
      "3   -1.098873\n",
      "4   -1.200935\n",
      "dtype: float64\n",
      "[ 0.24350718  0.36116724 -2.04176573 -1.09887328 -1.2009346 ]\n",
      "float64\n"
     ]
    }
   ],
   "source": [
    "mys = pd.Series( np.random.randn(5))\n",
    "\n",
    "print(mys)\n",
    "\n",
    "print(mys.empty)\n",
    "\n",
    "print(mys.head(2))\n",
    "\n",
    "print(mys.tail(2))\n",
    "\n",
    "print(mys.values)\n",
    "\n",
    "print(mys.dtype)    # or print(type(mys))\n",
    "\n",
    "# ----------------pandas series finish-------------------"
   ]
  },
  {
   "cell_type": "markdown",
   "metadata": {},
   "source": [
    "# pandas dataframe"
   ]
  },
  {
   "cell_type": "code",
   "execution_count": 44,
   "metadata": {},
   "outputs": [
    {
     "name": "stdout",
     "output_type": "stream",
     "text": [
      "    Name  Age\n",
      "0  Alice   21\n",
      "1    Bob   25\n",
      "2  Chris   23\n",
      "    Name  Age  height\n",
      "0  Alice   21     5.2\n",
      "1    Bob   25     6.0\n",
      "2  Chris   23     5.6\n"
     ]
    }
   ],
   "source": [
    "# - DataFrame (2d labeled heterogeneous array)\n",
    "import pandas as pd\n",
    "\n",
    "df =  pd.DataFrame({ 'Name': pd.Series(['Alice','Bob','Chris']), \n",
    "\n",
    "                  'Age': pd.Series([ 21,25,23]) } )\n",
    "\n",
    "print(df)\n",
    "\n",
    "#Add a new column:\n",
    "\n",
    "df['height'] = pd.Series([5.2,6.0,5.6])\n",
    "\n",
    "print(df)"
   ]
  },
  {
   "cell_type": "code",
   "execution_count": 9,
   "metadata": {},
   "outputs": [
    {
     "name": "stdout",
     "output_type": "stream",
     "text": [
      "   rank discipline  phd  service   sex  salary\n",
      "0  Prof          B   56       49  Male  186960\n",
      "1  Prof          A   12        6  Male   93000\n",
      "\n",
      "rank          object\n",
      "discipline    object\n",
      "phd            int64\n",
      "service        int64\n",
      "sex           object\n",
      "salary         int64\n",
      "dtype: object\n",
      "\n",
      "Index(['rank', 'discipline', 'phd', 'service', 'sex', 'salary'], dtype='object')\n",
      "\n",
      "[RangeIndex(start=0, stop=78, step=1), Index(['rank', 'discipline', 'phd', 'service', 'sex', 'salary'], dtype='object')]\n",
      "\n",
      "2\n",
      "\n",
      "468\n",
      "\n",
      "(78, 6)\n",
      "\n",
      "             phd    service         salary\n",
      "count  78.000000  78.000000      78.000000\n",
      "mean   19.705128  15.051282  108023.782051\n",
      "std    12.498425  12.139768   28293.661022\n",
      "min     1.000000   0.000000   57800.000000\n",
      "25%    10.250000   5.250000   88612.500000\n",
      "50%    18.500000  14.500000  104671.000000\n",
      "75%    27.750000  20.750000  126774.750000\n",
      "max    56.000000  51.000000  186960.000000\n",
      "\n",
      "0     186960\n",
      "1      93000\n",
      "2     110515\n",
      "3     131205\n",
      "4     104800\n",
      "       ...  \n",
      "73    105450\n",
      "74    104542\n",
      "75    124312\n",
      "76    109954\n",
      "77    109646\n",
      "Name: salary, Length: 78, dtype: int64\n",
      "\n",
      "phd            19.705128\n",
      "service        15.051282\n",
      "salary     108023.782051\n",
      "dtype: float64\n",
      "\n",
      "108023.78205128205\n",
      "\n",
      "phd            21.52\n",
      "service        17.60\n",
      "salary     113789.14\n",
      "dtype: float64\n",
      "\n",
      "<class 'pandas.core.frame.DataFrame'>\n"
     ]
    }
   ],
   "source": [
    "df = pd.read_csv('datasets/Salaries.csv')\n",
    "\n",
    "#Display a few first records\n",
    "\n",
    "print(df.head(2))  # head() by default display top 5 values\n",
    "print(    )\n",
    "\n",
    "#List the types of all columns\n",
    "print(df.dtypes)\n",
    "print(    )\n",
    "\n",
    "# List the column names\n",
    "print(df.columns)\n",
    "print(    )\n",
    "\n",
    "#List the row labels and the column names\n",
    "print(df.axes)\n",
    "print(    )\n",
    "\n",
    "#Number of dimensions\n",
    "print(df.ndim)\n",
    "print(    )\n",
    "\n",
    "#Total number of elements in the Data Frame\n",
    "print(df.size)\n",
    "print(    )\n",
    "\n",
    "#Number of rows and columns\n",
    "print(df.shape)\n",
    "print(    )\n",
    "\n",
    "#Output basic statistics for the numeric columns\n",
    "print(df.describe())\n",
    "print(    )\n",
    "\n",
    "#only print 1 column\n",
    "print(df['salary'])\n",
    "print(    )\n",
    "\n",
    "#Calculate average of the columns\n",
    "# <your code goes here>\n",
    "print(df.mean())\n",
    "print(     )\n",
    "\n",
    "#Calculate average of the only one columns\n",
    "# <your code goes here>\n",
    "print(df['salary'].mean())\n",
    "print(     )\n",
    "\n",
    "#Calculate average of the columns in the first 50 rows\n",
    "# <your code goes here>\n",
    "print(df.head(50).mean())\n",
    "print(     )\n",
    "\n",
    "print(type(df))"
   ]
  },
  {
   "cell_type": "code",
   "execution_count": 19,
   "metadata": {},
   "outputs": [
    {
     "data": {
      "text/html": [
       "<div>\n",
       "<style scoped>\n",
       "    .dataframe tbody tr th:only-of-type {\n",
       "        vertical-align: middle;\n",
       "    }\n",
       "\n",
       "    .dataframe tbody tr th {\n",
       "        vertical-align: top;\n",
       "    }\n",
       "\n",
       "    .dataframe thead th {\n",
       "        text-align: right;\n",
       "    }\n",
       "</style>\n",
       "<table border=\"1\" class=\"dataframe\">\n",
       "  <thead>\n",
       "    <tr style=\"text-align: right;\">\n",
       "      <th></th>\n",
       "      <th>phd</th>\n",
       "      <th>service</th>\n",
       "      <th>salary</th>\n",
       "    </tr>\n",
       "  </thead>\n",
       "  <tbody>\n",
       "    <tr>\n",
       "      <th>count</th>\n",
       "      <td>78.000000</td>\n",
       "      <td>78.000000</td>\n",
       "      <td>78.000000</td>\n",
       "    </tr>\n",
       "    <tr>\n",
       "      <th>mean</th>\n",
       "      <td>19.705128</td>\n",
       "      <td>15.051282</td>\n",
       "      <td>108023.782051</td>\n",
       "    </tr>\n",
       "    <tr>\n",
       "      <th>std</th>\n",
       "      <td>12.498425</td>\n",
       "      <td>12.139768</td>\n",
       "      <td>28293.661022</td>\n",
       "    </tr>\n",
       "    <tr>\n",
       "      <th>min</th>\n",
       "      <td>1.000000</td>\n",
       "      <td>0.000000</td>\n",
       "      <td>57800.000000</td>\n",
       "    </tr>\n",
       "    <tr>\n",
       "      <th>25%</th>\n",
       "      <td>10.250000</td>\n",
       "      <td>5.250000</td>\n",
       "      <td>88612.500000</td>\n",
       "    </tr>\n",
       "    <tr>\n",
       "      <th>50%</th>\n",
       "      <td>18.500000</td>\n",
       "      <td>14.500000</td>\n",
       "      <td>104671.000000</td>\n",
       "    </tr>\n",
       "    <tr>\n",
       "      <th>75%</th>\n",
       "      <td>27.750000</td>\n",
       "      <td>20.750000</td>\n",
       "      <td>126774.750000</td>\n",
       "    </tr>\n",
       "    <tr>\n",
       "      <th>max</th>\n",
       "      <td>56.000000</td>\n",
       "      <td>51.000000</td>\n",
       "      <td>186960.000000</td>\n",
       "    </tr>\n",
       "  </tbody>\n",
       "</table>\n",
       "</div>"
      ],
      "text/plain": [
       "             phd    service         salary\n",
       "count  78.000000  78.000000      78.000000\n",
       "mean   19.705128  15.051282  108023.782051\n",
       "std    12.498425  12.139768   28293.661022\n",
       "min     1.000000   0.000000   57800.000000\n",
       "25%    10.250000   5.250000   88612.500000\n",
       "50%    18.500000  14.500000  104671.000000\n",
       "75%    27.750000  20.750000  126774.750000\n",
       "max    56.000000  51.000000  186960.000000"
      ]
     },
     "execution_count": 19,
     "metadata": {},
     "output_type": "execute_result"
    }
   ],
   "source": [
    "df.describe()"
   ]
  },
  {
   "cell_type": "code",
   "execution_count": 22,
   "metadata": {},
   "outputs": [
    {
     "name": "stdout",
     "output_type": "stream",
     "text": [
      "<class 'pandas.core.frame.DataFrame'>\n",
      "RangeIndex: 78 entries, 0 to 77\n",
      "Data columns (total 6 columns):\n",
      " #   Column      Non-Null Count  Dtype \n",
      "---  ------      --------------  ----- \n",
      " 0   rank        78 non-null     object\n",
      " 1   discipline  78 non-null     object\n",
      " 2   phd         78 non-null     int64 \n",
      " 3   service     78 non-null     int64 \n",
      " 4   sex         78 non-null     object\n",
      " 5   salary      78 non-null     int64 \n",
      "dtypes: int64(3), object(3)\n",
      "memory usage: 3.8+ KB\n"
     ]
    }
   ],
   "source": [
    "df.info()"
   ]
  },
  {
   "cell_type": "code",
   "execution_count": 23,
   "metadata": {},
   "outputs": [
    {
     "data": {
      "text/plain": [
       "RangeIndex(start=0, stop=78, step=1)"
      ]
     },
     "execution_count": 23,
     "metadata": {},
     "output_type": "execute_result"
    }
   ],
   "source": [
    "df.index"
   ]
  },
  {
   "cell_type": "code",
   "execution_count": 24,
   "metadata": {},
   "outputs": [
    {
     "data": {
      "text/html": [
       "<div>\n",
       "<style scoped>\n",
       "    .dataframe tbody tr th:only-of-type {\n",
       "        vertical-align: middle;\n",
       "    }\n",
       "\n",
       "    .dataframe tbody tr th {\n",
       "        vertical-align: top;\n",
       "    }\n",
       "\n",
       "    .dataframe thead th {\n",
       "        text-align: right;\n",
       "    }\n",
       "</style>\n",
       "<table border=\"1\" class=\"dataframe\">\n",
       "  <thead>\n",
       "    <tr style=\"text-align: right;\">\n",
       "      <th></th>\n",
       "      <th>rank</th>\n",
       "      <th>discipline</th>\n",
       "      <th>phd</th>\n",
       "      <th>service</th>\n",
       "      <th>sex</th>\n",
       "      <th>salary</th>\n",
       "    </tr>\n",
       "  </thead>\n",
       "  <tbody>\n",
       "    <tr>\n",
       "      <th>0</th>\n",
       "      <td>Prof</td>\n",
       "      <td>B</td>\n",
       "      <td>56</td>\n",
       "      <td>49</td>\n",
       "      <td>Male</td>\n",
       "      <td>186960</td>\n",
       "    </tr>\n",
       "    <tr>\n",
       "      <th>1</th>\n",
       "      <td>Prof</td>\n",
       "      <td>A</td>\n",
       "      <td>12</td>\n",
       "      <td>6</td>\n",
       "      <td>Male</td>\n",
       "      <td>93000</td>\n",
       "    </tr>\n",
       "    <tr>\n",
       "      <th>2</th>\n",
       "      <td>Prof</td>\n",
       "      <td>A</td>\n",
       "      <td>23</td>\n",
       "      <td>20</td>\n",
       "      <td>Male</td>\n",
       "      <td>110515</td>\n",
       "    </tr>\n",
       "    <tr>\n",
       "      <th>3</th>\n",
       "      <td>Prof</td>\n",
       "      <td>A</td>\n",
       "      <td>40</td>\n",
       "      <td>31</td>\n",
       "      <td>Male</td>\n",
       "      <td>131205</td>\n",
       "    </tr>\n",
       "    <tr>\n",
       "      <th>4</th>\n",
       "      <td>Prof</td>\n",
       "      <td>B</td>\n",
       "      <td>20</td>\n",
       "      <td>18</td>\n",
       "      <td>Male</td>\n",
       "      <td>104800</td>\n",
       "    </tr>\n",
       "  </tbody>\n",
       "</table>\n",
       "</div>"
      ],
      "text/plain": [
       "   rank discipline  phd  service   sex  salary\n",
       "0  Prof          B   56       49  Male  186960\n",
       "1  Prof          A   12        6  Male   93000\n",
       "2  Prof          A   23       20  Male  110515\n",
       "3  Prof          A   40       31  Male  131205\n",
       "4  Prof          B   20       18  Male  104800"
      ]
     },
     "execution_count": 24,
     "metadata": {},
     "output_type": "execute_result"
    }
   ],
   "source": [
    "df.head()"
   ]
  },
  {
   "cell_type": "code",
   "execution_count": 25,
   "metadata": {},
   "outputs": [
    {
     "data": {
      "text/html": [
       "<div>\n",
       "<style scoped>\n",
       "    .dataframe tbody tr th:only-of-type {\n",
       "        vertical-align: middle;\n",
       "    }\n",
       "\n",
       "    .dataframe tbody tr th {\n",
       "        vertical-align: top;\n",
       "    }\n",
       "\n",
       "    .dataframe thead th {\n",
       "        text-align: right;\n",
       "    }\n",
       "</style>\n",
       "<table border=\"1\" class=\"dataframe\">\n",
       "  <thead>\n",
       "    <tr style=\"text-align: right;\">\n",
       "      <th></th>\n",
       "      <th>rank</th>\n",
       "      <th>discipline</th>\n",
       "      <th>phd</th>\n",
       "      <th>service</th>\n",
       "      <th>sex</th>\n",
       "      <th>salary</th>\n",
       "    </tr>\n",
       "  </thead>\n",
       "  <tbody>\n",
       "    <tr>\n",
       "      <th>73</th>\n",
       "      <td>Prof</td>\n",
       "      <td>B</td>\n",
       "      <td>18</td>\n",
       "      <td>10</td>\n",
       "      <td>Female</td>\n",
       "      <td>105450</td>\n",
       "    </tr>\n",
       "    <tr>\n",
       "      <th>74</th>\n",
       "      <td>AssocProf</td>\n",
       "      <td>B</td>\n",
       "      <td>19</td>\n",
       "      <td>6</td>\n",
       "      <td>Female</td>\n",
       "      <td>104542</td>\n",
       "    </tr>\n",
       "    <tr>\n",
       "      <th>75</th>\n",
       "      <td>Prof</td>\n",
       "      <td>B</td>\n",
       "      <td>17</td>\n",
       "      <td>17</td>\n",
       "      <td>Female</td>\n",
       "      <td>124312</td>\n",
       "    </tr>\n",
       "    <tr>\n",
       "      <th>76</th>\n",
       "      <td>Prof</td>\n",
       "      <td>A</td>\n",
       "      <td>28</td>\n",
       "      <td>14</td>\n",
       "      <td>Female</td>\n",
       "      <td>109954</td>\n",
       "    </tr>\n",
       "    <tr>\n",
       "      <th>77</th>\n",
       "      <td>Prof</td>\n",
       "      <td>A</td>\n",
       "      <td>23</td>\n",
       "      <td>15</td>\n",
       "      <td>Female</td>\n",
       "      <td>109646</td>\n",
       "    </tr>\n",
       "  </tbody>\n",
       "</table>\n",
       "</div>"
      ],
      "text/plain": [
       "         rank discipline  phd  service     sex  salary\n",
       "73       Prof          B   18       10  Female  105450\n",
       "74  AssocProf          B   19        6  Female  104542\n",
       "75       Prof          B   17       17  Female  124312\n",
       "76       Prof          A   28       14  Female  109954\n",
       "77       Prof          A   23       15  Female  109646"
      ]
     },
     "execution_count": 25,
     "metadata": {},
     "output_type": "execute_result"
    }
   ],
   "source": [
    "df.tail()"
   ]
  },
  {
   "cell_type": "code",
   "execution_count": 30,
   "metadata": {},
   "outputs": [
    {
     "data": {
      "text/plain": [
       "rank          0\n",
       "discipline    0\n",
       "phd           0\n",
       "service       0\n",
       "sex           0\n",
       "salary        0\n",
       "dtype: int64"
      ]
     },
     "execution_count": 30,
     "metadata": {},
     "output_type": "execute_result"
    }
   ],
   "source": [
    "df.isnull().sum()"
   ]
  },
  {
   "cell_type": "code",
   "execution_count": 31,
   "metadata": {},
   "outputs": [],
   "source": [
    "df[\"phd\"] = df[\"phd\"].fillna(df[\"phd\"].mean(),inplace=True)"
   ]
  },
  {
   "cell_type": "code",
   "execution_count": 32,
   "metadata": {},
   "outputs": [
    {
     "data": {
      "text/html": [
       "<div>\n",
       "<style scoped>\n",
       "    .dataframe tbody tr th:only-of-type {\n",
       "        vertical-align: middle;\n",
       "    }\n",
       "\n",
       "    .dataframe tbody tr th {\n",
       "        vertical-align: top;\n",
       "    }\n",
       "\n",
       "    .dataframe thead th {\n",
       "        text-align: right;\n",
       "    }\n",
       "</style>\n",
       "<table border=\"1\" class=\"dataframe\">\n",
       "  <thead>\n",
       "    <tr style=\"text-align: right;\">\n",
       "      <th></th>\n",
       "      <th>rank</th>\n",
       "      <th>discipline</th>\n",
       "      <th>phd</th>\n",
       "      <th>service</th>\n",
       "      <th>sex</th>\n",
       "      <th>salary</th>\n",
       "    </tr>\n",
       "  </thead>\n",
       "  <tbody>\n",
       "  </tbody>\n",
       "</table>\n",
       "</div>"
      ],
      "text/plain": [
       "Empty DataFrame\n",
       "Columns: [rank, discipline, phd, service, sex, salary]\n",
       "Index: []"
      ]
     },
     "execution_count": 32,
     "metadata": {},
     "output_type": "execute_result"
    }
   ],
   "source": [
    "df.dropna()"
   ]
  },
  {
   "cell_type": "code",
   "execution_count": 33,
   "metadata": {},
   "outputs": [
    {
     "name": "stdout",
     "output_type": "stream",
     "text": [
      "<pandas.core.groupby.generic.DataFrameGroupBy object at 0x000001ECA81A71C0>\n",
      "             service         salary\n",
      "rank                               \n",
      "AssocProf  11.307692   91786.230769\n",
      "AsstProf    2.210526   81362.789474\n",
      "Prof       21.413043  123624.804348\n"
     ]
    }
   ],
   "source": [
    "# Data Slicing and Grouping \n",
    "# ----> Groupby method follow the process of splitting data , applying a function and combining the required data.\n",
    "\n",
    "#Group data using rank\n",
    "\n",
    "df_rank = df.groupby('rank') # Do not display values  without operations \n",
    "print(df_rank)\n",
    "print(df_rank.mean())"
   ]
  },
  {
   "cell_type": "code",
   "execution_count": 11,
   "metadata": {},
   "outputs": [
    {
     "name": "stdout",
     "output_type": "stream",
     "text": [
      "              phd    service         salary\n",
      "sex                                        \n",
      "Female  16.512821  11.564103  101002.410256\n",
      "Male    22.897436  18.538462  115045.153846\n",
      "\n",
      "               salary\n",
      "sex                  \n",
      "Female  101002.410256\n",
      "Male    115045.153846\n"
     ]
    }
   ],
   "source": [
    "# If we use double brackets Pandas will produce a DataFrame\n",
    "print(df.groupby('sex').mean())\n",
    "print(    )\n",
    "\n",
    "print(df.groupby('sex')[['salary']].mean())    #only one column\n",
    "\n",
    "#Note- if single bracket used on salary it will display pandas series "
   ]
  },
  {
   "cell_type": "code",
   "execution_count": 12,
   "metadata": {},
   "outputs": [
    {
     "name": "stdout",
     "output_type": "stream",
     "text": [
      "                  salary\n",
      "rank                    \n",
      "AssocProf   91786.230769\n",
      "AsstProf    81362.789474\n",
      "Prof       123624.804348\n",
      "\n",
      "                  salary\n",
      "rank                    \n",
      "Prof       123624.804348\n",
      "AssocProf   91786.230769\n",
      "AsstProf    81362.789474\n"
     ]
    }
   ],
   "source": [
    "#Calculate mean salary for each professor rank:\n",
    "print(df.groupby(['rank'])[['salary']].mean())\n",
    "print(    )\n",
    "\n",
    "print(df.groupby(['rank'], sort=False)[['salary']].mean())"
   ]
  },
  {
   "cell_type": "code",
   "execution_count": 13,
   "metadata": {},
   "outputs": [
    {
     "name": "stdout",
     "output_type": "stream",
     "text": [
      "    rank discipline  phd  service     sex  salary\n",
      "0   Prof          B   56       49    Male  186960\n",
      "13  Prof          B   35       33    Male  162200\n",
      "72  Prof          B   24       15  Female  161101\n",
      "\n",
      "phd           21.527778\n",
      "service       15.722222\n",
      "salary     98331.111111\n",
      "dtype: float64\n",
      "\n",
      "98331.11111111111\n"
     ]
    }
   ],
   "source": [
    "# Filtering\n",
    "\n",
    "#Select observation with the value in the salary column > 120K\n",
    "\n",
    "df_sub = df[ df['salary'] > 160000]\n",
    "\n",
    "print(df_sub)\n",
    "\n",
    "print(   )\n",
    "\n",
    "# Using filtering, find the mean value of the salary for the discipline A\n",
    "print(df[df['discipline'] == 'A'].mean())\n",
    "print(    )\n",
    "\n",
    "print(df[df['discipline'] == 'A']['salary'].mean())"
   ]
  },
  {
   "cell_type": "code",
   "execution_count": 14,
   "metadata": {},
   "outputs": [
    {
     "data": {
      "text/html": [
       "<div>\n",
       "<style scoped>\n",
       "    .dataframe tbody tr th:only-of-type {\n",
       "        vertical-align: middle;\n",
       "    }\n",
       "\n",
       "    .dataframe tbody tr th {\n",
       "        vertical-align: top;\n",
       "    }\n",
       "\n",
       "    .dataframe thead th {\n",
       "        text-align: right;\n",
       "    }\n",
       "</style>\n",
       "<table border=\"1\" class=\"dataframe\">\n",
       "  <thead>\n",
       "    <tr style=\"text-align: right;\">\n",
       "      <th></th>\n",
       "      <th>salary</th>\n",
       "    </tr>\n",
       "    <tr>\n",
       "      <th>sex</th>\n",
       "      <th></th>\n",
       "    </tr>\n",
       "  </thead>\n",
       "  <tbody>\n",
       "    <tr>\n",
       "      <th>Female</th>\n",
       "      <td>21</td>\n",
       "    </tr>\n",
       "    <tr>\n",
       "      <th>Male</th>\n",
       "      <td>25</td>\n",
       "    </tr>\n",
       "  </tbody>\n",
       "</table>\n",
       "</div>"
      ],
      "text/plain": [
       "        salary\n",
       "sex           \n",
       "Female      21\n",
       "Male        25"
      ]
     },
     "execution_count": 14,
     "metadata": {},
     "output_type": "execute_result"
    }
   ],
   "source": [
    "\"\"\"\n",
    "Extract (filter) only observations with high salary ( > 100K) \n",
    "\n",
    "and find how many female and male professors in each group\n",
    "\n",
    "\"\"\"\n",
    "\n",
    "df[df['salary'] > 100000].groupby('sex')[['salary']].count()"
   ]
  },
  {
   "cell_type": "code",
   "execution_count": 34,
   "metadata": {},
   "outputs": [
    {
     "name": "stdout",
     "output_type": "stream",
     "text": [
      "0     186960\n",
      "1      93000\n",
      "2     110515\n",
      "3     131205\n",
      "4     104800\n",
      "       ...  \n",
      "73    105450\n",
      "74    104542\n",
      "75    124312\n",
      "76    109954\n",
      "77    109646\n",
      "Name: salary, Length: 78, dtype: int64\n",
      "         rank  salary\n",
      "0        Prof  186960\n",
      "1        Prof   93000\n",
      "2        Prof  110515\n",
      "3        Prof  131205\n",
      "4        Prof  104800\n",
      "..        ...     ...\n",
      "73       Prof  105450\n",
      "74  AssocProf  104542\n",
      "75       Prof  124312\n",
      "76       Prof  109954\n",
      "77       Prof  109646\n",
      "\n",
      "[78 rows x 2 columns]\n"
     ]
    }
   ],
   "source": [
    "# More on slicing the dataset\n",
    "# When selecting one column, it is possible to use single set of brackets, but the resulting object will be  a Series (not a DataFrame)\n",
    "\n",
    "#Select column salary:\n",
    "print(df['salary'])\n",
    "\n",
    "# When we need to select more than one column and/or make the output to be a DataFrame, we should use double brackets\n",
    "#Select column salary:\n",
    "print(df[['rank','salary']])"
   ]
  },
  {
   "cell_type": "code",
   "execution_count": 38,
   "metadata": {},
   "outputs": [
    {
     "name": "stdout",
     "output_type": "stream",
     "text": [
      "        rank discipline   phd  service   sex  salary\n",
      "10      Prof          B  None       33  Male  128250\n",
      "11      Prof          B  None       23  Male  134778\n",
      "12  AsstProf          B  None        0  Male   88000\n",
      "13      Prof          B  None       33  Male  162200\n",
      "14      Prof          B  None       19  Male  153750\n",
      "15      Prof          B  None        3  Male  150480\n",
      "16  AsstProf          B  None        3  Male   75044\n",
      "17  AsstProf          B  None        0  Male   92000\n",
      "18      Prof          A  None        7  Male  107300\n",
      "19      Prof          A  None       27  Male  150500\n"
     ]
    }
   ],
   "source": [
    "# If we need to select a range of rows, we can specify the range using \":\" \n",
    "#Select rows by their position:\n",
    "print(df[10:20])\n",
    "\n",
    "# \"\"\"\n",
    "# Method iloc (summary)\n",
    "\n",
    "# df.iloc[0]                           # First row of a data frame\n",
    "\n",
    "# df.iloc[i]                             #(i+1)th row\n",
    "\n",
    "# df.iloc[-1]                          # Last row \n",
    "\n",
    "# df.iloc[:, 0]                        # First column\n",
    "\n",
    "# df.iloc[:, -1]                       # Last column \n",
    "\n",
    "# df.iloc[0:7]                        #First 7 rows\n",
    "\n",
    "# df.iloc[:, 0:2]                     #First 2 columns\n",
    "\n",
    "# df.iloc[1:3, 0:2]                 #Second through third rows and first 2 columns\n",
    "\n",
    "# df.iloc[[0,5], [1,3]]             #1st and 6th rows and 2nd and 4th columns\n",
    "# \"\"\""
   ]
  },
  {
   "cell_type": "code",
   "execution_count": null,
   "metadata": {},
   "outputs": [],
   "source": [
    "# -------------------------------------------------------------------------------------------------------------------------- #"
   ]
  }
 ],
 "metadata": {
  "kernelspec": {
   "display_name": "Python 3",
   "language": "python",
   "name": "python3"
  },
  "language_info": {
   "codemirror_mode": {
    "name": "ipython",
    "version": 3
   },
   "file_extension": ".py",
   "mimetype": "text/x-python",
   "name": "python",
   "nbconvert_exporter": "python",
   "pygments_lexer": "ipython3",
   "version": "3.8.5"
  }
 },
 "nbformat": 4,
 "nbformat_minor": 4
}
